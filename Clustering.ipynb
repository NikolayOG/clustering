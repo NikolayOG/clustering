{
 "cells": [
  {
   "cell_type": "markdown",
   "metadata": {},
   "source": [
    "## Two general tasks\n",
    "-  identify the \"natural\" clustering number\n",
    "-  properly group objects into \"sensible\" clusters"
   ]
  },
  {
   "cell_type": "markdown",
   "metadata": {},
   "source": [
    "## Usage\n",
    "-  Bank/Internet Security: fraud/spam pattern discovery\n",
    "-  Biology: taxonomy of living things such as kingdom, phylum, class, order, family, genus and species\n",
    "-  City-planning: Identifying groups of houses according to their house type, value, and geographical location\n",
    "-  Climate change: understanding earth climate, find patterns of atmospheric and ocean\n",
    "-  Finance: stock clustering analysis to uncover correlation underlying shares\n",
    "-  Image Compression/segmentation: coherent pixels grouped\n",
    "-  Information retrieval/organisation: Google search, topic-based news\n",
    "-  Land use: Identification of areas of similar land use in an earth observation database\n",
    "-  Marketing: Help marketers discover distinct groups in their customer bases, and then use this knowledge to develop targeted marketing programs\n",
    "-  Social network mining: special interest group automatic discovery"
   ]
  },
  {
   "cell_type": "markdown",
   "metadata": {},
   "source": [
    "## Distance Measures"
   ]
  },
  {
   "cell_type": "code",
   "execution_count": 1,
   "metadata": {
    "collapsed": true
   },
   "outputs": [],
   "source": [
    "import numpy as  np\n",
    "import matplotlib.pyplot as plt "
   ]
  },
  {
   "cell_type": "code",
   "execution_count": 2,
   "metadata": {
    "collapsed": true
   },
   "outputs": [],
   "source": [
    "data_matrix = np.array([[0, 2], [2, 0], [3, 1], [5, 1]], np.int32) # 3x2 matrix where col 0 = x, col 1 = y\n",
    "num_data_points = data_matrix.shape[0]"
   ]
  },
  {
   "cell_type": "code",
   "execution_count": 3,
   "metadata": {},
   "outputs": [
    {
     "data": {
      "image/png": "[encoded data removed]",
      "text/plain": [
       "<matplotlib.figure.Figure at 0x7f90b03a98d0>"
      ]
     },
     "metadata": {},
     "output_type": "display_data"
    }
   ],
   "source": [
    "plt.scatter(data_matrix[:, 0], data_matrix[:, 1], marker='o', s=100, edgecolor='k')\n",
    "plt.show()"
   ]
  },
  {
   "cell_type": "markdown",
   "metadata": {},
   "source": [
    "## Minkowski distance"
   ]
  },
  {
   "cell_type": "markdown",
   "metadata": {},
   "source": [
    "The Minkowski distance of order p between two points X and Y\n",
    "![points x and y](pic1.svg)\n",
    "is defined as:\n",
    "![Minkowski distance formula](pic2.svg)"
   ]
  },
  {
   "cell_type": "code",
   "execution_count": 4,
   "metadata": {
    "collapsed": true
   },
   "outputs": [],
   "source": [
    "def minkowski_distance(p, data_matrix):\n",
    "    num_rows, num_cols = data_matrix.shape\n",
    "    num_examples = num_rows\n",
    "    num_features = num_cols\n",
    "    distance_matrix = np.zeros((num_rows, num_rows))\n",
    "    \n",
    "    for i in range(num_examples):\n",
    "        point1 = data_matrix[i, :]\n",
    "        for j in range(num_examples):\n",
    "            point2 = data_matrix[j, :]\n",
    "            distance = 0\n",
    "            for f in range(num_features):\n",
    "                distance += abs(point1[f] - point2[f]) ** p\n",
    "            distance = distance ** (1/p)\n",
    "            distance_matrix[i, j] = distance\n",
    "    \n",
    "    return distance_matrix"
   ]
  },
  {
   "cell_type": "code",
   "execution_count": 5,
   "metadata": {
    "collapsed": true
   },
   "outputs": [],
   "source": [
    "manhattan_distance_matrix = minkowski_distance(1, data_matrix) # L1 norm\n",
    "euclidean_distance_matrix = minkowski_distance(2, data_matrix) # L2 norm "
   ]
  },
  {
   "cell_type": "code",
   "execution_count": 6,
   "metadata": {},
   "outputs": [
    {
     "data": {
      "text/plain": [
       "array([[ 0.,  4.,  4.,  6.],\n",
       "       [ 4.,  0.,  2.,  4.],\n",
       "       [ 4.,  2.,  0.,  2.],\n",
       "       [ 6.,  4.,  2.,  0.]])"
      ]
     },
     "execution_count": 6,
     "metadata": {},
     "output_type": "execute_result"
    }
   ],
   "source": [
    "manhattan_distance_matrix"
   ]
  },
  {
   "cell_type": "code",
   "execution_count": 7,
   "metadata": {},
   "outputs": [
    {
     "data": {
      "text/plain": [
       "array([[ 0.        ,  2.82842712,  3.16227766,  5.09901951],\n",
       "       [ 2.82842712,  0.        ,  1.41421356,  3.16227766],\n",
       "       [ 3.16227766,  1.41421356,  0.        ,  2.        ],\n",
       "       [ 5.09901951,  3.16227766,  2.        ,  0.        ]])"
      ]
     },
     "execution_count": 7,
     "metadata": {},
     "output_type": "execute_result"
    }
   ],
   "source": [
    "euclidean_distance_matrix"
   ]
  },
  {
   "cell_type": "markdown",
   "metadata": {},
   "source": [
    "## Cosine Similarity"
   ]
  },
  {
   "cell_type": "markdown",
   "metadata": {
    "collapsed": true
   },
   "source": [
    "![cosine similarity](pic3.svg)"
   ]
  },
  {
   "cell_type": "code",
   "execution_count": 8,
   "metadata": {
    "collapsed": true
   },
   "outputs": [],
   "source": [
    "def cosine_similarity(A, B):\n",
    "    num_features = A.shape\n",
    "    \n",
    "    numerator = np.sum(np.multiply(A, B))\n",
    "    denominator = np.sqrt(np.sum(np.power(A, 2))) * np.sqrt(np.sum(np.power(B, 2)))\n",
    "    \n",
    "    cos = numerator / denominator\n",
    "    # closer to zero more similar are the examples \n",
    "    return 1 - cos"
   ]
  },
  {
   "cell_type": "code",
   "execution_count": 9,
   "metadata": {
    "collapsed": true
   },
   "outputs": [],
   "source": [
    "A = np.array([3, 2, 0, 5, 2, 0, 0])\n",
    "B = np.array([1, 0, 0, 0, 1, 0, 2])"
   ]
  },
  {
   "cell_type": "code",
   "execution_count": 10,
   "metadata": {
    "scrolled": true
   },
   "outputs": [
    {
     "data": {
      "text/plain": [
       "0.68502960582564398"
      ]
     },
     "execution_count": 10,
     "metadata": {},
     "output_type": "execute_result"
    }
   ],
   "source": [
    "cosine_similarity(A, B)"
   ]
  },
  {
   "cell_type": "code",
   "execution_count": 11,
   "metadata": {
    "collapsed": true
   },
   "outputs": [],
   "source": [
    "# very similar example\n",
    "A = np.array([5, 7, 8, 1])\n",
    "B = np.array([5, 7, 7, 1])"
   ]
  },
  {
   "cell_type": "code",
   "execution_count": 12,
   "metadata": {
    "scrolled": false
   },
   "outputs": [
    {
     "data": {
      "text/plain": [
       "0.0021780507643551772"
      ]
     },
     "execution_count": 12,
     "metadata": {},
     "output_type": "execute_result"
    }
   ],
   "source": [
    "cosine_similarity(A, B)"
   ]
  },
  {
   "cell_type": "code",
   "execution_count": 13,
   "metadata": {
    "collapsed": true
   },
   "outputs": [],
   "source": [
    "# very dissimilar, orthogonal\n",
    "A = np.array([0, 10])\n",
    "B = np.array([10, 0])"
   ]
  },
  {
   "cell_type": "code",
   "execution_count": 14,
   "metadata": {},
   "outputs": [
    {
     "data": {
      "text/plain": [
       "1.0"
      ]
     },
     "execution_count": 14,
     "metadata": {},
     "output_type": "execute_result"
    }
   ],
   "source": [
    "cosine_similarity(A, B)"
   ]
  },
  {
   "cell_type": "markdown",
   "metadata": {},
   "source": [
    "## Distance for Binary Features"
   ]
  },
  {
   "cell_type": "markdown",
   "metadata": {},
   "source": [
    "![Binary Features Example](pic4.png)\n",
    "-  Y and P will be set to 1, N set to 0\n",
    "-  gender is a __symmetric__ feature e.g not important don't count it\n",
    "-  the other features are __asymmetric__ binary"
   ]
  },
  {
   "cell_type": "code",
   "execution_count": 15,
   "metadata": {
    "collapsed": true
   },
   "outputs": [],
   "source": [
    "binary_features_data = np.array([[1, 0, 1, 0, 0, 0], [1, 0, 1, 0, 1, 0], [1, 1, 0, 0, 0, 0]])"
   ]
  },
  {
   "cell_type": "code",
   "execution_count": 16,
   "metadata": {},
   "outputs": [
    {
     "data": {
      "text/plain": [
       "array([[1, 0, 1, 0, 0, 0],\n",
       "       [1, 0, 1, 0, 1, 0],\n",
       "       [1, 1, 0, 0, 0, 0]])"
      ]
     },
     "execution_count": 16,
     "metadata": {},
     "output_type": "execute_result"
    }
   ],
   "source": [
    "binary_features_data"
   ]
  },
  {
   "cell_type": "markdown",
   "metadata": {},
   "source": [
    "#### Contingency table\n",
    "![Contigency table](pic6.png)\n",
    "![Contigency table](pic5.png)\n"
   ]
  },
  {
   "cell_type": "markdown",
   "metadata": {},
   "source": [
    "Notation: contigency_table[row, col]\n",
    "- contigency_table[0, 0] - both Jack and Marry have Fever and positive Test-1\n",
    "- contigency_table[0, 1] - no difference\n",
    "- contigency_table[1, 0] - for Test-3 Mary has positive resulult but Jack has negative\n",
    "- contigency_table[1, 1] - both Jack and Marry have negative Test-2, Test-4, Cough\n",
    "\n",
    "##### __distance = r + s / q + r + s__ (distance closer to 0 means that they are similar)\n",
    "\n",
    "distance(mary, jack) = 0 + 1/ 2 + 0 + 1 = 0.33\n",
    "\n",
    "If there are more than 2 features then we can generalize as follows:\n",
    "- __simple mis-matching__: distance = # of mis-matching features between x and y / total number of features\n",
    "- __one-hot encodding__: then measure distance as normal\n",
    " "
   ]
  },
  {
   "cell_type": "markdown",
   "metadata": {},
   "source": [
    "#### Partitioning Methodology\n",
    "- Construct various partitions and then evaluate them by some criterion, \n",
    "  minimizing the sum of square distance cost\n",
    "- Typical methods: __K-means__, K-medoids, CLARANS"
   ]
  },
  {
   "cell_type": "markdown",
   "metadata": {},
   "source": [
    "#### Hierarchical Methodology\n",
    "- Create a hierarchical decomposition of the set of data (or objects)\n",
    "  using some criterion\n",
    "- Typical methods: __Agglomerative__, Diana, Agnes, BIRCH, ROCK"
   ]
  },
  {
   "cell_type": "markdown",
   "metadata": {},
   "source": [
    "#### Density-based Methodology\n",
    "-  Based on connectivity and density functions\n",
    "-  Typical methods: DBSACN, OPTICS, DenClue"
   ]
  },
  {
   "cell_type": "markdown",
   "metadata": {},
   "source": [
    "#### Model-based Methodology\n",
    "-  A generative model is hypothesized for each of the clusters and tries to \n",
    "   find the best fit of that model to each other\n",
    "-  Typical methods: Gaussian Mixture Model (GMM), COBWEB"
   ]
  },
  {
   "cell_type": "markdown",
   "metadata": {},
   "source": [
    "#### Spectral clustering Methodology\n",
    "-  Convert data set into weighted graph (vertex, edge), then cut the graph into sub-graphs corresponding to clusters via spectral analysis\n",
    "-  Typical methods: Normalised-Cuts "
   ]
  },
  {
   "cell_type": "markdown",
   "metadata": {},
   "source": [
    "#### Clustering ensemble Methodology\n",
    "-  Combine multiple clustering results (different partitions)\n",
    "-  Typical methods: __Evidence-accumulation based__, graph-based ……"
   ]
  },
  {
   "cell_type": "markdown",
   "metadata": {
    "collapsed": true
   },
   "source": [
    "## K-means Partitioning Clustering Approach"
   ]
  },
  {
   "cell_type": "markdown",
   "metadata": {},
   "source": [
    "\n"
   ]
  },
  {
   "cell_type": "markdown",
   "metadata": {},
   "source": [
    "### Visualize Data"
   ]
  },
  {
   "cell_type": "code",
   "execution_count": 19,
   "metadata": {},
   "outputs": [
    {
     "data": {
      "text/plain": [
       "<matplotlib.collections.PathCollection at 0x7f90b005d358>"
      ]
     },
     "execution_count": 19,
     "metadata": {},
     "output_type": "execute_result"
    }
   ],
   "source": [
    "import random\n",
    "from sklearn.datasets import make_blobs\n",
    "from scipy.spatial import distance\n",
    "plt.title(\"Three blobs\", fontsize='small')\n",
    "X, Y = make_blobs(n_features=2, centers=3) # not using labels - Y\n",
    "plt.scatter(X[:, 0], X[:, 1], marker='o', s=50)"
   ]
  },
  {
   "cell_type": "code",
   "execution_count": 20,
   "metadata": {},
   "outputs": [
    {
     "data": {
      "image/png": "[encoded data removed]",
      "text/plain": [
       "<matplotlib.figure.Figure at 0x7f90b0125f98>"
      ]
     },
     "metadata": {},
     "output_type": "display_data"
    }
   ],
   "source": [
    "plt.show()"
   ]
  },
  {
   "cell_type": "markdown",
   "metadata": {},
   "source": [
    "### Initialize centroids\n",
    "Randomly pick K training examples, set Mu[0, :] ... M[k, :] equal to these K training examples "
   ]
  },
  {
   "cell_type": "code",
   "execution_count": 21,
   "metadata": {
    "collapsed": true
   },
   "outputs": [],
   "source": [
    "def initialize_centroid(k, X):\n",
    "    num_rows, num_cols = X.shape\n",
    "    num_features = num_cols\n",
    "    Mu = np.zeros((k, num_features))\n",
    "    for i in range(k):\n",
    "        Mu[i, :] = random.choice(X)\n",
    "    return Mu"
   ]
  },
  {
   "cell_type": "markdown",
   "metadata": {
    "collapsed": true
   },
   "source": [
    "### K-Means"
   ]
  },
  {
   "cell_type": "code",
   "execution_count": null,
   "metadata": {
    "collapsed": true
   },
   "outputs": [],
   "source": [
    "def k_means(k, X):\n",
    "    num_rows, num_cols = X.shape\n",
    "    num_examples = num_rows\n",
    "    num_features = num_cols\n",
    "    \n",
    "    C = np.zeros((num_rows, 1 + num_features)) # C[i] = the centroid number(index) (from 1 to K) \n",
    "                                               # closest to the examples X[i, :]\n",
    "                                               # rest of the cols contain the example\n",
    "    Mu = initialize_centroid(k, X)\n",
    "    \n",
    "    \n",
    "    converged = False # if there is not movement of the centroids then the k-means has converged\n",
    "    prev_Mu = Mu # used to check for convergence\n",
    "    counter = 0\n",
    "    while (not converged):\n",
    "        for i in range(num_examples):\n",
    "            min_distance = float('inf') # temporal variable to calculate the minimum distance to the centroid\n",
    "            centroid_index = 0 # index to the centroid e.g class with the minimum distance\n",
    "            for j in range(k):\n",
    "                d = distance.euclidean(X[i, :], Mu[j, :]) # caculate euclidian\n",
    "                if (d < min_distance):\n",
    "                    min_distance = d\n",
    "                    centroid_index = j\n",
    "            C[i, 0] = centroid_index\n",
    "            C[i, 1:] = X[i, :]\n",
    "         \n",
    "        for i in range(k):\n",
    "            Xi = C[np.where(C[:, 0] == i)][:, 1:]\n",
    "            num_examples, num_features = Xi.shape # number of example of that class\n",
    "            Mu[i, :] = np.sum(Xi, axis=0) / num_examples\n",
    "        \n",
    "        \n",
    "        counter += 1;\n",
    "        if not (False in prev_Mu == Mu): # element wise checking\n",
    "            converged = True\n",
    "        prev_Mu = Mu\n",
    "        \n",
    "\n",
    "        \n",
    "\n",
    "        \n",
    "    return C, k_means_cost_function(C, Mu, k)"
   ]
  },
  {
   "cell_type": "markdown",
   "metadata": {},
   "source": [
    "### 1 run of K Means"
   ]
  },
  {
   "cell_type": "code",
   "execution_count": null,
   "metadata": {},
   "outputs": [],
   "source": [
    "min_cost = float(\"inf\")\n",
    "for i in range(10000):\n",
    "    C, cost = k_means(3, X)\n",
    "    if (min_cost > cost):\n",
    "        min_cost = cost\n",
    "        C_min = C\n",
    "        \n",
    "    \n",
    "\n",
    "\n",
    "min_cost"
   ]
  },
  {
   "cell_type": "code",
   "execution_count": null,
   "metadata": {},
   "outputs": [],
   "source": [
    "plt.scatter(X[:, 0], X[:, 1], marker='o', c=C[:, 0], s=50)\n",
    "plt.show()"
   ]
  },
  {
   "cell_type": "markdown",
   "metadata": {},
   "source": [
    "We need a __cost function__ to evaluate how well is K Means performing\n",
    "and then run K means several times and pick the one with the lowest cost\n",
    "![Cost function](pic7.png)\n",
    "This is also called __distortion function__\n",
    "\n",
    "In other words, minimize the distance between examples of each class\n",
    "Parameters\n",
    "- C examples which belongs to a class\n",
    "- Mu centroids"
   ]
  },
  {
   "cell_type": "code",
   "execution_count": 24,
   "metadata": {
    "collapsed": true
   },
   "outputs": [],
   "source": [
    "def k_means_cost_function(C, Mu, k):\n",
    "    J = 0; # sum\n",
    "    for i in range(k):\n",
    "        Xi = C[np.where(C[:, 0] == i)][:, 1:]\n",
    "        d = np.linalg.norm(Xi - Mu[i, :]) # computing the euclidian distance\n",
    "        J += np.sum(d)\n",
    "    return J"
   ]
  },
  {
   "cell_type": "code",
   "execution_count": 274,
   "metadata": {},
   "outputs": [
    {
     "data": {
      "text/plain": [
       "9.0"
      ]
     },
     "execution_count": 274,
     "metadata": {},
     "output_type": "execute_result"
    }
   ],
   "source": []
  },
  {
   "cell_type": "code",
   "execution_count": 269,
   "metadata": {},
   "outputs": [
    {
     "data": {
      "text/plain": [
       "array([-5.53841064, -7.49635724])"
      ]
     },
     "execution_count": 269,
     "metadata": {},
     "output_type": "execute_result"
    }
   ],
   "source": [
    "Xi[0, :]"
   ]
  },
  {
   "cell_type": "code",
   "execution_count": 271,
   "metadata": {},
   "outputs": [
    {
     "data": {
      "text/plain": [
       "array([[  54.12272597,  323.72555958],\n",
       "       [  38.69156235,  360.24199201],\n",
       "       [  26.69291527,  312.22806349],\n",
       "       [  22.7763592 ,  289.23294327],\n",
       "       [  55.10170947,  367.77454686],\n",
       "       [  36.00002929,  367.2848481 ],\n",
       "       [  34.72741735,  332.02248597],\n",
       "       [  44.85998306,  377.07194244],\n",
       "       [  50.59837401,  286.54155863],\n",
       "       [  51.99107359,  301.23196615],\n",
       "       [  40.56255618,  305.13833545],\n",
       "       [  52.67465758,  290.27947758],\n",
       "       [  48.37056367,  346.29073097],\n",
       "       [  46.0388802 ,  355.27487032],\n",
       "       [  37.43264794,  323.08056661],\n",
       "       [  28.98700329,  286.28757101],\n",
       "       [  14.33301158,  336.08271135],\n",
       "       [  31.28640838,  327.22457241],\n",
       "       [  18.90770761,  277.34548488],\n",
       "       [  43.20121631,  242.99518361],\n",
       "       [  34.46933241,  335.51520373],\n",
       "       [  23.62338075,  356.65576058],\n",
       "       [  42.04023232,  321.66123388],\n",
       "       [  60.72296958,  359.22778475],\n",
       "       [  49.27344949,  311.05026113],\n",
       "       [  53.16054303,  324.08747709],\n",
       "       [  49.24973112,  278.58286705],\n",
       "       [  41.64234854,  336.29366876],\n",
       "       [  33.28891904,  285.10055899],\n",
       "       [  37.7015003 ,  332.70812878],\n",
       "       [  45.39674349,  312.2423962 ],\n",
       "       [  29.03657614,  275.7691577 ],\n",
       "       [  34.98831098,  284.32438112]])"
      ]
     },
     "execution_count": 271,
     "metadata": {},
     "output_type": "execute_result"
    }
   ],
   "source": [
    "np.power((Xi - Mu[0, :]), 2)"
   ]
  },
  {
   "cell_type": "code",
   "execution_count": null,
   "metadata": {
    "collapsed": true
   },
   "outputs": [],
   "source": []
  }
 ],
 "metadata": {
  "kernelspec": {
   "display_name": "Python 3",
   "language": "python",
   "name": "python3"
  },
  "language_info": {
   "codemirror_mode": {
    "name": "ipython",
    "version": 3
   },
   "file_extension": ".py",
   "mimetype": "text/x-python",
   "name": "python",
   "nbconvert_exporter": "python",
   "pygments_lexer": "ipython3",
   "version": "3.6.3"
  }
 },
 "nbformat": 4,
 "nbformat_minor": 2
}
