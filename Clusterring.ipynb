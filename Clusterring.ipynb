{
 "cells": [
  {
   "cell_type": "markdown",
   "metadata": {},
   "source": [
    "### Two general tasks\n",
    "-  identify the \"natural\" clustering number\n",
    "-  properly group objects into \"sensible\" clusters"
   ]
  },
  {
   "cell_type": "markdown",
   "metadata": {},
   "source": [
    "### Usage\n",
    "-  Bank/Internet Security: fraud/spam pattern discovery\n",
    "-  Biology: taxonomy of living things such as kingdom, phylum, class, order, family, genus and species\n",
    "-  City-planning: Identifying groups of houses according to their house type, value, and geographical location\n",
    "-  Climate change: understanding earth climate, find patterns of atmospheric and ocean\n",
    "-  Finance: stock clustering analysis to uncover correlation underlying shares\n",
    "-  Image Compression/segmentation: coherent pixels grouped\n",
    "-  Information retrieval/organisation: Google search, topic-based news\n",
    "-  Land use: Identification of areas of similar land use in an earth observation database\n",
    "-  Marketing: Help marketers discover distinct groups in their customer bases, and then use this knowledge to develop targeted marketing programs\n",
    "-  Social network mining: special interest group automatic discovery"
   ]
  },
  {
   "cell_type": "markdown",
   "metadata": {},
   "source": [
    "### Distance Measures"
   ]
  },
  {
   "cell_type": "code",
   "execution_count": 57,
   "metadata": {},
   "outputs": [],
   "source": [
    "import numpy as  np\n",
    "import matplotlib.pyplot as plt \n",
    "import sys"
   ]
  },
  {
   "cell_type": "code",
   "execution_count": 18,
   "metadata": {},
   "outputs": [],
   "source": [
    "data_matrix = np.array([[0, 2], [2, 0], [3, 1], [5, 1]], np.int32) # 3x2 matrix where col 0 = x, col 1 = y\n",
    "num_data_points = data_matrix.shape[0]"
   ]
  },
  {
   "cell_type": "code",
   "execution_count": 30,
   "metadata": {},
   "outputs": [
    {
     "data": {
      "image/png": "[encoded data removed]",
      "text/plain": [
       "<matplotlib.figure.Figure at 0x7fee5c6b8fd0>"
      ]
     },
     "metadata": {},
     "output_type": "display_data"
    }
   ],
   "source": [
    "plt.plot(data_matrix[:, 0], data_matrix[:, 1], 'ro')\n",
    "plt.show()"
   ]
  },
  {
   "cell_type": "markdown",
   "metadata": {},
   "source": [
    "The Minkowski distance of order p between two points X and Y\n",
    "![points x and y](pic1.svg)\n",
    "is defined as:\n",
    "![Minkowski distance formula](pic2.svg)"
   ]
  },
  {
   "cell_type": "code",
   "execution_count": 49,
   "metadata": {},
   "outputs": [],
   "source": [
    "def minkowski_distance(p, data_matrix):\n",
    "    num_rows, num_cols = data_matrix.shape\n",
    "    num_examples = num_rows\n",
    "    num_features = num_cols\n",
    "    distance_matrix = np.zeros((num_rows, num_rows))\n",
    "    \n",
    "    for i in range(num_examples):\n",
    "        point1 = data_matrix[i, :]\n",
    "        for j in range(num_examples):\n",
    "            point2 = data_matrix[j, :]\n",
    "            distance = 0\n",
    "            for f in range(num_features):\n",
    "                distance += abs(point1[f] - point2[f]) ** p\n",
    "            distance = distance ** (1/p)\n",
    "            distance_matrix[i, j] = distance\n",
    "    \n",
    "    return distance_matrix"
   ]
  },
  {
   "cell_type": "code",
   "execution_count": 65,
   "metadata": {},
   "outputs": [],
   "source": [
    "manhattan_distance_matrix = minkowski_distance(1, data_matrix) # L1 norm\n",
    "euclidean_distance_matrix = minkowski_distance(2, data_matrix) # L2 norm "
   ]
  },
  {
   "cell_type": "code",
   "execution_count": 67,
   "metadata": {},
   "outputs": [
    {
     "data": {
      "text/plain": [
       "array([[ 0.,  4.,  4.,  6.],\n",
       "       [ 4.,  0.,  2.,  4.],\n",
       "       [ 4.,  2.,  0.,  2.],\n",
       "       [ 6.,  4.,  2.,  0.]])"
      ]
     },
     "execution_count": 67,
     "metadata": {},
     "output_type": "execute_result"
    }
   ],
   "source": [
    "manhattan_distance_matrix"
   ]
  },
  {
   "cell_type": "code",
   "execution_count": 68,
   "metadata": {},
   "outputs": [
    {
     "data": {
      "text/plain": [
       "array([[ 0.        ,  2.82842712,  3.16227766,  5.09901951],\n",
       "       [ 2.82842712,  0.        ,  1.41421356,  3.16227766],\n",
       "       [ 3.16227766,  1.41421356,  0.        ,  2.        ],\n",
       "       [ 5.09901951,  3.16227766,  2.        ,  0.        ]])"
      ]
     },
     "execution_count": 68,
     "metadata": {},
     "output_type": "execute_result"
    }
   ],
   "source": [
    "euclidean_distance_matrix"
   ]
  },
  {
   "cell_type": "code",
   "execution_count": null,
   "metadata": {},
   "outputs": [],
   "source": []
  },
  {
   "cell_type": "code",
   "execution_count": null,
   "metadata": {
    "collapsed": true
   },
   "outputs": [],
   "source": []
  },
  {
   "cell_type": "code",
   "execution_count": null,
   "metadata": {
    "collapsed": true
   },
   "outputs": [],
   "source": []
  }
 ],
 "metadata": {
  "kernelspec": {
   "display_name": "Python 3",
   "language": "python",
   "name": "python3"
  },
  "language_info": {
   "codemirror_mode": {
    "name": "ipython",
    "version": 3
   },
   "file_extension": ".py",
   "mimetype": "text/x-python",
   "name": "python",
   "nbconvert_exporter": "python",
   "pygments_lexer": "ipython3",
   "version": "3.6.3"
  }
 },
 "nbformat": 4,
 "nbformat_minor": 2
}
